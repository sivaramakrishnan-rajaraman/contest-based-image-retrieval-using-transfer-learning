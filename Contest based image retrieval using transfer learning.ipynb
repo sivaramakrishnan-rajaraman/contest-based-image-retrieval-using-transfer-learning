{
 "cells": [
  {
   "cell_type": "markdown",
   "metadata": {},
   "source": [
    "We find similar images in a database by using transfer learning via a pre-trained VGG-19 image classifier. We retreive the 5 most similar images for each image in the database, and plot the tSNE for all our image feature vectors."
   ]
  },
  {
   "cell_type": "code",
   "execution_count": null,
   "metadata": {},
   "outputs": [],
   "source": [
    "import sys, os\n",
    "import numpy as np\n",
    "from keras.preprocessing import image\n",
    "from keras.models import Model\n",
    "sys.path.append(\"src\")\n",
    "from keras import applications\n",
    "from imagenet_utils import preprocess_input\n",
    "from plot_utils import plot_query_answer\n",
    "from sort_utils import find_topk_unique\n",
    "from kNN import kNN\n",
    "from tSNE import plot_tsne"
   ]
  },
  {
   "cell_type": "markdown",
   "metadata": {},
   "source": [
    "Load pre-trained VGG-19 model and extract features from the deepest convolutional layer: block5_conv4"
   ]
  },
  {
   "cell_type": "code",
   "execution_count": null,
   "metadata": {},
   "outputs": [],
   "source": [
    "print(\"Loading VGG-19 pre-trained model...\")\n",
    "base_model=applications.VGG19(weights='imagenet')\n",
    "base_model.summary()\n",
    "model = Model(input=base_model.input,output=base_model.get_layer('block5_conv4').output) #try extracting from a different layer"
   ]
  },
  {
   "cell_type": "markdown",
   "metadata": {},
   "source": [
    "Read images and convert them to feature vectors"
   ]
  },
  {
   "cell_type": "code",
   "execution_count": null,
   "metadata": {},
   "outputs": [],
   "source": [
    "imgs, filename_heads, X = [], [], []\n",
    "path = \"db_new\" \n",
    "print(\"Reading images from '{}' directory...\\n\".format(path))\n",
    "for f in os.listdir(path):\n",
    "    # Process filename\n",
    "    filename = os.path.splitext(f)  # filename in directory\n",
    "    filename_full = os.path.join(path,f)  # full path filename\n",
    "    head, ext = filename[0], filename[1]\n",
    "    if ext.lower() not in [\".jpg\", \".jpeg\"]:\n",
    "        continue\n",
    "\n",
    "    # Read image file\n",
    "    img = image.load_img(filename_full, target_size=(224,224))  # resize images as required by the pre-trained model\n",
    "    imgs.append(np.array(img))  # image\n",
    "    filename_heads.append(head)  # filename head\n",
    "\n",
    "    # Pre-process for model input\n",
    "    img = image.img_to_array(img)  # convert to array\n",
    "    img = np.expand_dims(img, axis=0)\n",
    "    img = preprocess_input(img)\n",
    "    features = model.predict(img).flatten()  # features\n",
    "    X.append(features)  # append feature extractor\n",
    "\n",
    "X = np.array(X)  # feature vectors\n",
    "imgs = np.array(imgs)  # images\n",
    "print(\"imgs.shape = {}\".format(imgs.shape))\n",
    "print(\"X_features.shape = {}\\n\".format(X.shape))\n"
   ]
  },
  {
   "cell_type": "markdown",
   "metadata": {},
   "source": [
    "Find k-nearest images to each image"
   ]
  },
  {
   "cell_type": "code",
   "execution_count": null,
   "metadata": {},
   "outputs": [],
   "source": [
    "n_neighbours = 5 + 1  # +1 as itself is most similar\n",
    "knn = kNN()  # kNN model\n",
    "knn.compile(n_neighbors=n_neighbours, algorithm=\"brute\", metric=\"cosine\") #try different algorithms and metrics like minkowski distance etc.\n",
    "knn.fit(X)"
   ]
  },
  {
   "cell_type": "markdown",
   "metadata": {},
   "source": [
    "Plot recommendations for each image in database"
   ]
  },
  {
   "cell_type": "code",
   "execution_count": null,
   "metadata": {},
   "outputs": [],
   "source": [
    "output_rec_dir = os.path.join(\"output_new\", \"rec_new\") #output, rec before\n",
    "if not os.path.exists(output_rec_dir):\n",
    "    os.makedirs(output_rec_dir)\n",
    "n_imgs = len(imgs)\n",
    "ypixels, xpixels = imgs[0].shape[0], imgs[0].shape[1]\n",
    "for ind_query in range(n_imgs):\n",
    "\n",
    "    # Find top-k closest image feature vectors to each vector\n",
    "    print(\"[{}/{}] Plotting similar image recommendations for: {}\".format(ind_query+1, n_imgs, filename_heads[ind_query]))\n",
    "    distances, indices = knn.predict(np.array([X[ind_query]]))\n",
    "    distances = distances.flatten()\n",
    "    indices = indices.flatten()\n",
    "    indices, distances = find_topk_unique(indices, distances, n_neighbours)\n",
    "\n",
    "    # Plot recommendations\n",
    "    rec_filename = os.path.join(output_rec_dir, \"{}_rec_new.png\".format(filename_heads[ind_query]))\n",
    "    x_query_plot = imgs[ind_query].reshape((-1, ypixels, xpixels, 3))\n",
    "    x_answer_plot = imgs[indices].reshape((-1, ypixels, xpixels, 3))\n",
    "    plot_query_answer(x_query=x_query_plot,\n",
    "                      x_answer=x_answer_plot[1:],  # remove itself\n",
    "                      filename=rec_filename)"
   ]
  },
  {
   "cell_type": "markdown",
   "metadata": {},
   "source": [
    "Plot tSNE"
   ]
  },
  {
   "cell_type": "code",
   "execution_count": null,
   "metadata": {},
   "outputs": [],
   "source": [
    "output_tsne_dir = os.path.join(\"output_new\")\n",
    "if not os.path.exists(output_tsne_dir):\n",
    "    os.makedirs(output_tsne_dir)\n",
    "tsne_filename = os.path.join(output_tsne_dir, \"tsne_new.png\")\n",
    "print(\"Plotting tSNE_new to {}...\".format(tsne_filename))\n",
    "plot_tsne(imgs, X, tsne_filename)"
   ]
  },
  {
   "cell_type": "markdown",
   "metadata": {},
   "source": [
    "It would be better to train a model completely on these sets of classes so that it would be more efficient in retrieving these images belonging to a particular class."
   ]
  }
 ],
 "metadata": {
  "kernelspec": {
   "display_name": "Python 3",
   "language": "python",
   "name": "python3"
  },
  "language_info": {
   "codemirror_mode": {
    "name": "ipython",
    "version": 3
   },
   "file_extension": ".py",
   "mimetype": "text/x-python",
   "name": "python",
   "nbconvert_exporter": "python",
   "pygments_lexer": "ipython3",
   "version": "3.6.4"
  }
 },
 "nbformat": 4,
 "nbformat_minor": 2
}
